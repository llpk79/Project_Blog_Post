{
 "cells": [
  {
   "cell_type": "code",
   "execution_count": 1,
   "metadata": {
    "ExecuteTime": {
     "end_time": "2019-06-27T00:00:14.800138Z",
     "start_time": "2019-06-27T00:00:05.551196Z"
    }
   },
   "outputs": [],
   "source": [
    "import eli5\n",
    "import shap\n",
    "import numpy as np\n",
    "import pandas as pd\n",
    "import matplotlib.pyplot as plt\n",
    "import seaborn as sns\n",
    "from category_encoders import OrdinalEncoder\n",
    "from eli5.sklearn import PermutationImportance\n",
    "from ipywidgets import interact, fixed\n",
    "from sklearn.metrics import roc_auc_score, roc_curve, classification_report, confusion_matrix\n",
    "from sklearn.impute import SimpleImputer\n",
    "from sklearn.model_selection import train_test_split, RandomizedSearchCV, GridSearchCV\n",
    "from sklearn.pipeline import make_pipeline\n",
    "from sklearn.ensemble import RandomForestClassifier\n",
    "from sklearn.utils import shuffle\n",
    "from sklearn.utils.multiclass import unique_labels\n",
    "from xgboost import XGBRFClassifier, XGBClassifier\n",
    "from jupyterthemes import jtplot"
   ]
  },
  {
   "cell_type": "code",
   "execution_count": 2,
   "metadata": {
    "ExecuteTime": {
     "end_time": "2019-06-27T00:00:14.820127Z",
     "start_time": "2019-06-27T00:00:14.803122Z"
    }
   },
   "outputs": [],
   "source": [
    "%matplotlib inline\n",
    "jtplot.style(grid=False)\n",
    "pd.set_option('display.max_columns', 500)"
   ]
  },
  {
   "cell_type": "code",
   "execution_count": 3,
   "metadata": {
    "ExecuteTime": {
     "end_time": "2019-06-27T00:00:14.949663Z",
     "start_time": "2019-06-27T00:00:14.823111Z"
    }
   },
   "outputs": [],
   "source": [
    "# test = pd.read_stata(\"C:\\\\Users\\Paul\\PycharmProjects\\BlogPost\\data\\WA_BRFSS_11to17_B.dta\",\n",
    "#                      convert_missing=False)"
   ]
  },
  {
   "cell_type": "code",
   "execution_count": 7,
   "metadata": {
    "ExecuteTime": {
     "end_time": "2019-06-27T00:02:50.201594Z",
     "start_time": "2019-06-27T00:02:35.335560Z"
    }
   },
   "outputs": [],
   "source": [
    "%run -i main.py"
   ]
  },
  {
   "cell_type": "code",
   "execution_count": 8,
   "metadata": {
    "ExecuteTime": {
     "end_time": "2019-06-27T00:03:05.069057Z",
     "start_time": "2019-06-27T00:03:05.002095Z"
    }
   },
   "outputs": [
    {
     "data": {
      "text/html": [
       "<div>\n",
       "<style scoped>\n",
       "    .dataframe tbody tr th:only-of-type {\n",
       "        vertical-align: middle;\n",
       "    }\n",
       "\n",
       "    .dataframe tbody tr th {\n",
       "        vertical-align: top;\n",
       "    }\n",
       "\n",
       "    .dataframe thead th {\n",
       "        text-align: right;\n",
       "    }\n",
       "</style>\n",
       "<table border=\"1\" class=\"dataframe\">\n",
       "  <thead>\n",
       "    <tr style=\"text-align: right;\">\n",
       "      <th></th>\n",
       "      <th>Age</th>\n",
       "      <th>Race</th>\n",
       "      <th>Income</th>\n",
       "      <th>Over Median Income</th>\n",
       "      <th>Ownership</th>\n",
       "      <th>Total Household</th>\n",
       "      <th>Zip Code</th>\n",
       "      <th>In Food Desert</th>\n",
       "      <th>Employment</th>\n",
       "      <th>Active</th>\n",
       "      <th>Overweight</th>\n",
       "      <th>Diabetic</th>\n",
       "      <th>Good Health</th>\n",
       "      <th>No Fruit</th>\n",
       "      <th>No Veg</th>\n",
       "      <th>Fruit Daily</th>\n",
       "      <th>Veg Daily</th>\n",
       "      <th>Fruit Weekly</th>\n",
       "      <th>Veg Weekly</th>\n",
       "      <th>Fruit Monthly</th>\n",
       "      <th>Veg Monthly</th>\n",
       "      <th>Sleep Hrs</th>\n",
       "      <th>Insurance</th>\n",
       "      <th>Dr Too Much</th>\n",
       "      <th>Recent Dr Visit</th>\n",
       "      <th>Smoker</th>\n",
       "      <th>Alcohol</th>\n",
       "    </tr>\n",
       "  </thead>\n",
       "  <tbody>\n",
       "    <tr>\n",
       "      <th>7021</th>\n",
       "      <td>55-59</td>\n",
       "      <td>White</td>\n",
       "      <td>$50-75K</td>\n",
       "      <td>False</td>\n",
       "      <td>Own</td>\n",
       "      <td>4.0</td>\n",
       "      <td>98648</td>\n",
       "      <td>False</td>\n",
       "      <td>Employed for wages</td>\n",
       "      <td>Does not meet Aerobic Recs</td>\n",
       "      <td>Over</td>\n",
       "      <td>False</td>\n",
       "      <td>Very Good</td>\n",
       "      <td>False</td>\n",
       "      <td>False</td>\n",
       "      <td>False</td>\n",
       "      <td>False</td>\n",
       "      <td>False</td>\n",
       "      <td>True</td>\n",
       "      <td>False</td>\n",
       "      <td>False</td>\n",
       "      <td>NaN</td>\n",
       "      <td>Yes</td>\n",
       "      <td>No</td>\n",
       "      <td>2-5 years</td>\n",
       "      <td>Never Smoked</td>\n",
       "      <td>05</td>\n",
       "    </tr>\n",
       "    <tr>\n",
       "      <th>9722</th>\n",
       "      <td>40-44</td>\n",
       "      <td>NaN</td>\n",
       "      <td>$20-25K</td>\n",
       "      <td>False</td>\n",
       "      <td>Own</td>\n",
       "      <td>2.0</td>\n",
       "      <td>98607</td>\n",
       "      <td>False</td>\n",
       "      <td>Employed for wages</td>\n",
       "      <td>Does not meet Aerobic Recs</td>\n",
       "      <td>Normal</td>\n",
       "      <td>False</td>\n",
       "      <td>Poor</td>\n",
       "      <td>False</td>\n",
       "      <td>False</td>\n",
       "      <td>False</td>\n",
       "      <td>False</td>\n",
       "      <td>True</td>\n",
       "      <td>False</td>\n",
       "      <td>False</td>\n",
       "      <td>False</td>\n",
       "      <td>NaN</td>\n",
       "      <td>Yes</td>\n",
       "      <td>Yes</td>\n",
       "      <td>Past Year</td>\n",
       "      <td>Current - Every Day</td>\n",
       "      <td>02</td>\n",
       "    </tr>\n",
       "    <tr>\n",
       "      <th>2557</th>\n",
       "      <td>60-64</td>\n",
       "      <td>White</td>\n",
       "      <td>$75+</td>\n",
       "      <td>True</td>\n",
       "      <td>Own</td>\n",
       "      <td>3.0</td>\n",
       "      <td>98407</td>\n",
       "      <td>False</td>\n",
       "      <td>Employed for wages</td>\n",
       "      <td>Meets Aerobic Recs</td>\n",
       "      <td>Obese</td>\n",
       "      <td>False</td>\n",
       "      <td>Good</td>\n",
       "      <td>False</td>\n",
       "      <td>False</td>\n",
       "      <td>False</td>\n",
       "      <td>False</td>\n",
       "      <td>False</td>\n",
       "      <td>False</td>\n",
       "      <td>False</td>\n",
       "      <td>False</td>\n",
       "      <td>NaN</td>\n",
       "      <td>Yes</td>\n",
       "      <td>No</td>\n",
       "      <td>Past Year</td>\n",
       "      <td>Never Smoked</td>\n",
       "      <td>04</td>\n",
       "    </tr>\n",
       "    <tr>\n",
       "      <th>5489</th>\n",
       "      <td>75-79</td>\n",
       "      <td>White</td>\n",
       "      <td>$15-20K</td>\n",
       "      <td>False</td>\n",
       "      <td>Own</td>\n",
       "      <td>1.0</td>\n",
       "      <td>98133</td>\n",
       "      <td>False</td>\n",
       "      <td>Retired</td>\n",
       "      <td>Meets Aerobic Recs</td>\n",
       "      <td>Obese</td>\n",
       "      <td>True</td>\n",
       "      <td>Fair</td>\n",
       "      <td>False</td>\n",
       "      <td>False</td>\n",
       "      <td>False</td>\n",
       "      <td>False</td>\n",
       "      <td>False</td>\n",
       "      <td>False</td>\n",
       "      <td>False</td>\n",
       "      <td>True</td>\n",
       "      <td>NaN</td>\n",
       "      <td>Unknown</td>\n",
       "      <td>No</td>\n",
       "      <td>Past Year</td>\n",
       "      <td>Former Smoker</td>\n",
       "      <td>Unknown</td>\n",
       "    </tr>\n",
       "    <tr>\n",
       "      <th>12037</th>\n",
       "      <td>70-74</td>\n",
       "      <td>White</td>\n",
       "      <td>Refused</td>\n",
       "      <td>False</td>\n",
       "      <td>Own</td>\n",
       "      <td>2.0</td>\n",
       "      <td>98365</td>\n",
       "      <td>False</td>\n",
       "      <td>Retired</td>\n",
       "      <td>Meets Aerobic Recs</td>\n",
       "      <td>Unknown</td>\n",
       "      <td>False</td>\n",
       "      <td>Very Good</td>\n",
       "      <td>False</td>\n",
       "      <td>False</td>\n",
       "      <td>False</td>\n",
       "      <td>False</td>\n",
       "      <td>True</td>\n",
       "      <td>True</td>\n",
       "      <td>False</td>\n",
       "      <td>False</td>\n",
       "      <td>NaN</td>\n",
       "      <td>Unknown</td>\n",
       "      <td>No</td>\n",
       "      <td>Past Year</td>\n",
       "      <td>Former Smoker</td>\n",
       "      <td>28</td>\n",
       "    </tr>\n",
       "  </tbody>\n",
       "</table>\n",
       "</div>"
      ],
      "text/plain": [
       "         Age   Race   Income  Over Median Income Ownership  Total Household  \\\n",
       "7021   55-59  White  $50-75K               False       Own              4.0   \n",
       "9722   40-44    NaN  $20-25K               False       Own              2.0   \n",
       "2557   60-64  White     $75+                True       Own              3.0   \n",
       "5489   75-79  White  $15-20K               False       Own              1.0   \n",
       "12037  70-74  White  Refused               False       Own              2.0   \n",
       "\n",
       "      Zip Code  In Food Desert          Employment  \\\n",
       "7021     98648           False  Employed for wages   \n",
       "9722     98607           False  Employed for wages   \n",
       "2557     98407           False  Employed for wages   \n",
       "5489     98133           False             Retired   \n",
       "12037    98365           False             Retired   \n",
       "\n",
       "                           Active Overweight Diabetic Good Health  No Fruit  \\\n",
       "7021   Does not meet Aerobic Recs       Over    False   Very Good     False   \n",
       "9722   Does not meet Aerobic Recs     Normal    False        Poor     False   \n",
       "2557           Meets Aerobic Recs      Obese    False        Good     False   \n",
       "5489           Meets Aerobic Recs      Obese     True        Fair     False   \n",
       "12037          Meets Aerobic Recs    Unknown    False   Very Good     False   \n",
       "\n",
       "       No Veg  Fruit Daily  Veg Daily  Fruit Weekly  Veg Weekly  \\\n",
       "7021    False        False      False         False        True   \n",
       "9722    False        False      False          True       False   \n",
       "2557    False        False      False         False       False   \n",
       "5489    False        False      False         False       False   \n",
       "12037   False        False      False          True        True   \n",
       "\n",
       "       Fruit Monthly  Veg Monthly  Sleep Hrs Insurance Dr Too Much  \\\n",
       "7021           False        False        NaN       Yes          No   \n",
       "9722           False        False        NaN       Yes         Yes   \n",
       "2557           False        False        NaN       Yes          No   \n",
       "5489           False         True        NaN   Unknown          No   \n",
       "12037          False        False        NaN   Unknown          No   \n",
       "\n",
       "      Recent Dr Visit               Smoker  Alcohol  \n",
       "7021        2-5 years         Never Smoked       05  \n",
       "9722        Past Year  Current - Every Day       02  \n",
       "2557        Past Year         Never Smoked       04  \n",
       "5489        Past Year        Former Smoker  Unknown  \n",
       "12037       Past Year        Former Smoker       28  "
      ]
     },
     "execution_count": 8,
     "metadata": {},
     "output_type": "execute_result"
    }
   ],
   "source": [
    "df.head()"
   ]
  },
  {
   "cell_type": "code",
   "execution_count": 9,
   "metadata": {
    "ExecuteTime": {
     "end_time": "2019-06-27T00:03:06.910932Z",
     "start_time": "2019-06-27T00:03:06.897939Z"
    }
   },
   "outputs": [
    {
     "data": {
      "text/plain": [
       "Unknown    15327\n",
       "01          3051\n",
       "02          2310\n",
       "30          2088\n",
       "20          1746\n",
       "4           1569\n",
       "8           1463\n",
       "03          1419\n",
       "12          1416\n",
       "05          1234\n",
       "04          1198\n",
       "28          1062\n",
       "10           982\n",
       "15           911\n",
       "16           638\n",
       "25           553\n",
       "06           459\n",
       "08           374\n",
       "07           321\n",
       "24           284\n",
       "0             73\n",
       "14            57\n",
       "29            46\n",
       "18            29\n",
       "27            28\n",
       "09            24\n",
       "26            23\n",
       "21            21\n",
       "17            18\n",
       "22            16\n",
       "13            12\n",
       "23             8\n",
       "11             7\n",
       "19             4\n",
       "Name: Alcohol, dtype: int64"
      ]
     },
     "execution_count": 9,
     "metadata": {},
     "output_type": "execute_result"
    }
   ],
   "source": [
    "df['Alcohol'].value_counts()"
   ]
  },
  {
   "cell_type": "code",
   "execution_count": 11,
   "metadata": {
    "ExecuteTime": {
     "end_time": "2019-06-27T00:03:48.976769Z",
     "start_time": "2019-06-27T00:03:48.972772Z"
    }
   },
   "outputs": [],
   "source": [
    "# df['Pre Diabetic'] = df['Pre Diabetic'].astype(int)\n",
    "# df.describe()"
   ]
  },
  {
   "cell_type": "code",
   "execution_count": 12,
   "metadata": {
    "ExecuteTime": {
     "end_time": "2019-06-27T00:03:49.175655Z",
     "start_time": "2019-06-27T00:03:48.981764Z"
    }
   },
   "outputs": [],
   "source": [
    "def train_val_test_split(X, y):\n",
    "    trainval, test, y_trainval, y_test = train_test_split(X,\n",
    "                                                          y,\n",
    "                                                          stratify=y,\n",
    "                                                          random_state=42,\n",
    "                                                          )\n",
    "    train, val, y_train, y_val = train_test_split(trainval,\n",
    "                                                 y_trainval,\n",
    "                                                 stratify=y_trainval,\n",
    "                                                 random_state=42)\n",
    "    return train, val, test, y_train, y_val, y_test"
   ]
  },
  {
   "cell_type": "code",
   "execution_count": 13,
   "metadata": {
    "ExecuteTime": {
     "end_time": "2019-06-27T00:03:49.339558Z",
     "start_time": "2019-06-27T00:03:49.179650Z"
    }
   },
   "outputs": [],
   "source": [
    "target = 'Diabetic'\n",
    "y = df[target].astype(bool)\n",
    "X = df.drop(columns=target)"
   ]
  },
  {
   "cell_type": "code",
   "execution_count": 14,
   "metadata": {
    "ExecuteTime": {
     "end_time": "2019-06-27T00:03:49.555436Z",
     "start_time": "2019-06-27T00:03:49.344555Z"
    }
   },
   "outputs": [
    {
     "data": {
      "text/plain": [
       "((21834, 26), (7279, 26), (9705, 26), (21834,), (7279,), (9705,))"
      ]
     },
     "execution_count": 14,
     "metadata": {},
     "output_type": "execute_result"
    }
   ],
   "source": [
    "train, val, test, y_train, y_val, y_test = train_val_test_split(X, y)\n",
    "train.shape, val.shape, test.shape, y_train.shape, y_val.shape, y_test.shape"
   ]
  },
  {
   "cell_type": "code",
   "execution_count": 15,
   "metadata": {
    "ExecuteTime": {
     "end_time": "2019-06-27T00:03:49.590415Z",
     "start_time": "2019-06-27T00:03:49.558432Z"
    }
   },
   "outputs": [
    {
     "data": {
      "text/plain": [
       "False    0.889149\n",
       "True     0.110851\n",
       "Name: Diabetic, dtype: float64"
      ]
     },
     "execution_count": 15,
     "metadata": {},
     "output_type": "execute_result"
    }
   ],
   "source": [
    "# Predict majority class as baseline.\n",
    "y.value_counts(normalize=True)"
   ]
  },
  {
   "cell_type": "code",
   "execution_count": 16,
   "metadata": {
    "ExecuteTime": {
     "end_time": "2019-06-27T00:03:49.698412Z",
     "start_time": "2019-06-27T00:03:49.594412Z"
    }
   },
   "outputs": [
    {
     "data": {
      "text/plain": [
       "0.5"
      ]
     },
     "execution_count": 16,
     "metadata": {},
     "output_type": "execute_result"
    }
   ],
   "source": [
    "\n",
    "roc_auc_score(y_train, np.full(y_train.shape, 0))"
   ]
  },
  {
   "cell_type": "code",
   "execution_count": 17,
   "metadata": {
    "ExecuteTime": {
     "end_time": "2019-06-27T00:03:49.805574Z",
     "start_time": "2019-06-27T00:03:49.703408Z"
    }
   },
   "outputs": [],
   "source": [
    "pipeline = make_pipeline(OrdinalEncoder(),\n",
    "                         SimpleImputer())"
   ]
  },
  {
   "cell_type": "code",
   "execution_count": 18,
   "metadata": {
    "ExecuteTime": {
     "end_time": "2019-06-27T00:03:50.555485Z",
     "start_time": "2019-06-27T00:03:49.809562Z"
    }
   },
   "outputs": [
    {
     "data": {
      "text/plain": [
       "((21834, 26), (7279, 26), (9705, 26))"
      ]
     },
     "execution_count": 18,
     "metadata": {},
     "output_type": "execute_result"
    }
   ],
   "source": [
    "X_train = pipeline.fit_transform(train)\n",
    "X_val = pipeline.transform(val)\n",
    "X_test = pipeline.transform(test)\n",
    "X_train.shape, X_val.shape, X_test.shape"
   ]
  },
  {
   "cell_type": "code",
   "execution_count": 19,
   "metadata": {
    "ExecuteTime": {
     "end_time": "2019-06-27T00:03:50.562481Z",
     "start_time": "2019-06-27T00:03:50.558481Z"
    }
   },
   "outputs": [],
   "source": [
    "eval_set = [(X_train, y_train),\n",
    "            (X_val, y_val)]"
   ]
  },
  {
   "cell_type": "code",
   "execution_count": 20,
   "metadata": {
    "ExecuteTime": {
     "end_time": "2019-06-27T00:03:50.769513Z",
     "start_time": "2019-06-27T00:03:50.567476Z"
    }
   },
   "outputs": [],
   "source": [
    "model = XGBRFClassifier(n_jobs=-1,\n",
    "                        n_estimators=5000,\n",
    "                        early_stopping_rounds=100,\n",
    "                        random_state=42,\n",
    "                        scale_pos_weight=15,\n",
    "                        learning_rate=.005,\n",
    "                        reg_lambda=.01,\n",
    "                        verbosity=1)"
   ]
  },
  {
   "cell_type": "code",
   "execution_count": 21,
   "metadata": {
    "ExecuteTime": {
     "end_time": "2019-06-27T00:04:31.201625Z",
     "start_time": "2019-06-27T00:03:50.773507Z"
    }
   },
   "outputs": [
    {
     "name": "stdout",
     "output_type": "stream",
     "text": [
      "[0]\tvalidation_0-auc:0.799485\tvalidation_1-auc:0.801136\n"
     ]
    },
    {
     "data": {
      "text/plain": [
       "XGBRFClassifier(base_score=0.5, colsample_bylevel=1, colsample_bynode=0.8,\n",
       "                colsample_bytree=1, early_stopping_rounds=100, gamma=0,\n",
       "                learning_rate=0.005, max_delta_step=0, max_depth=3,\n",
       "                min_child_weight=1, missing=None, n_estimators=5000, n_jobs=-1,\n",
       "                nthread=None, objective='binary:logistic', random_state=42,\n",
       "                reg_alpha=0, reg_lambda=0.01, scale_pos_weight=15, seed=None,\n",
       "                silent=None, subsample=0.8, verbosity=1)"
      ]
     },
     "execution_count": 21,
     "metadata": {},
     "output_type": "execute_result"
    }
   ],
   "source": [
    "model.fit(X_train,\n",
    "          y_train,\n",
    "          eval_set=eval_set,\n",
    "          eval_metric='auc',\n",
    "          verbose=True)"
   ]
  },
  {
   "cell_type": "code",
   "execution_count": 22,
   "metadata": {
    "ExecuteTime": {
     "end_time": "2019-06-27T00:04:32.475973Z",
     "start_time": "2019-06-27T00:04:31.206621Z"
    }
   },
   "outputs": [
    {
     "name": "stdout",
     "output_type": "stream",
     "text": [
      "Validation ROC AUC score: 0.8011360155193356\n"
     ]
    },
    {
     "data": {
      "image/png": "[encoded data removed]",
      "text/plain": [
       "<Figure size 432x432 with 1 Axes>"
      ]
     },
     "metadata": {},
     "output_type": "display_data"
    }
   ],
   "source": [
    "y_pred_proba = model.predict_proba(X_val)[:, 1]\n",
    "print(f'Validation ROC AUC score: {roc_auc_score(y_val, y_pred_proba)}')\n",
    "curves = roc_curve(y_val, y_pred_proba)\n",
    "curve_x, curve_y = curves[0], curves[1]\n",
    "x_ = np.linspace(0, 1, len(curve_x))\n",
    "fig = plt.figure(figsize=(6, 6))\n",
    "ax = fig.gca()\n",
    "y_ = x_\n",
    "plt.plot(curve_x, curve_y, label='Model Preditions')\n",
    "plt.plot(x_, y_, color='red', label='Baseline')\n",
    "plt.title('True Positive Rate by Prediction Probability Threshold.',\n",
    "          fontsize=16,\n",
    "          color='white')\n",
    "ax.set_ylabel('True Positive Rate')\n",
    "ax.set_xlabel('Probability Threshold for Positive Prediction')\n",
    "plt.legend();"
   ]
  },
  {
   "cell_type": "code",
   "execution_count": 23,
   "metadata": {
    "ExecuteTime": {
     "end_time": "2019-06-27T00:06:14.648475Z",
     "start_time": "2019-06-27T00:04:32.482967Z"
    }
   },
   "outputs": [
    {
     "data": {
      "text/plain": [
       "PermutationImportance(cv='prefit',\n",
       "                      estimator=XGBRFClassifier(base_score=0.5,\n",
       "                                                colsample_bylevel=1,\n",
       "                                                colsample_bynode=0.8,\n",
       "                                                colsample_bytree=1,\n",
       "                                                early_stopping_rounds=100,\n",
       "                                                gamma=0, learning_rate=0.005,\n",
       "                                                max_delta_step=0, max_depth=3,\n",
       "                                                min_child_weight=1,\n",
       "                                                missing=None, n_estimators=5000,\n",
       "                                                n_jobs=-1, nthread=None,\n",
       "                                                objective='binary:logistic',\n",
       "                                                random_state=42, reg_alpha=0,\n",
       "                                                reg_lambda=0.01,\n",
       "                                                scale_pos_weight=15, seed=None,\n",
       "                                                silent=None, subsample=0.8,\n",
       "                                                verbosity=1),\n",
       "                      n_iter=5, random_state=42, refit=True, scoring='roc_auc')"
      ]
     },
     "execution_count": 23,
     "metadata": {},
     "output_type": "execute_result"
    }
   ],
   "source": [
    "permuter = PermutationImportance(model,\n",
    "                                 cv='prefit',\n",
    "                                 n_iter=5,\n",
    "                                 scoring='roc_auc',\n",
    "                                 random_state=42)\n",
    "permuter.fit(X_val, y_val)"
   ]
  },
  {
   "cell_type": "code",
   "execution_count": 24,
   "metadata": {
    "ExecuteTime": {
     "end_time": "2019-06-27T00:06:15.348095Z",
     "start_time": "2019-06-27T00:06:14.653473Z"
    }
   },
   "outputs": [
    {
     "data": {
      "image/png": "[encoded data removed]",
      "text/plain": [
       "<Figure size 576x936 with 1 Axes>"
      ]
     },
     "metadata": {},
     "output_type": "display_data"
    }
   ],
   "source": [
    "features_of_import = pd.Series(permuter.feature_importances_, val.columns)\n",
    "plt.figure(figsize=(8, len(val.columns) / 2))\n",
    "features_of_import.sort_values(ascending=True).plot.barh();"
   ]
  },
  {
   "cell_type": "code",
   "execution_count": 25,
   "metadata": {
    "ExecuteTime": {
     "end_time": "2019-06-27T00:06:15.857781Z",
     "start_time": "2019-06-27T00:06:15.353072Z"
    }
   },
   "outputs": [],
   "source": [
    "mask = features_of_import > 0\n",
    "trimmed_columns = train.columns[mask]\n",
    "train_trimmed = train[trimmed_columns]\n",
    "val_trimmed = val[trimmed_columns]\n",
    "test_trimmed = test[trimmed_columns]\n",
    "\n",
    "pipeline1 = make_pipeline(OrdinalEncoder(),\n",
    "                          SimpleImputer())\n",
    "\n",
    "X_train_ = pipeline1.fit_transform(train_trimmed)\n",
    "X_val_ = pipeline1.transform(val_trimmed)\n",
    "X_test_ = pipeline1.transform(test_trimmed)\n",
    "\n",
    "eval_set1 = [(X_train_, y_train),\n",
    "            (X_val_, y_val)]"
   ]
  },
  {
   "cell_type": "code",
   "execution_count": 26,
   "metadata": {
    "ExecuteTime": {
     "end_time": "2019-06-27T00:06:48.682988Z",
     "start_time": "2019-06-27T00:06:15.860780Z"
    }
   },
   "outputs": [
    {
     "name": "stdout",
     "output_type": "stream",
     "text": [
      "[0]\tvalidation_0-auc:0.800127\tvalidation_1-auc:0.801818\n",
      "XGBRFClassifier validation ROC AUC: 0.8018182030533205\n"
     ]
    }
   ],
   "source": [
    "model.fit(X_train_, y_train, eval_set=eval_set1, eval_metric='auc')\n",
    "y_pred_proba = model.predict_proba(X_val_)[:, 1]\n",
    "print(f'XGBRFClassifier validation ROC AUC: {roc_auc_score(y_val, y_pred_proba)}')"
   ]
  },
  {
   "cell_type": "code",
   "execution_count": 27,
   "metadata": {
    "ExecuteTime": {
     "end_time": "2019-06-27T00:06:50.145153Z",
     "start_time": "2019-06-27T00:06:48.687986Z"
    }
   },
   "outputs": [
    {
     "data": {
      "text/plain": [
       "<matplotlib.axes._subplots.AxesSubplot at 0x26696dc58d0>"
      ]
     },
     "execution_count": 27,
     "metadata": {},
     "output_type": "execute_result"
    },
    {
     "data": {
      "image/png": "[encoded data removed]",
      "text/plain": [
       "<Figure size 576x576 with 1 Axes>"
      ]
     },
     "metadata": {},
     "output_type": "display_data"
    }
   ],
   "source": [
    "importance = pd.Series(model.feature_importances_, val_trimmed.columns)\n",
    "plt.figure(figsize=(8, len(val_trimmed.columns) / 2))\n",
    "importance.sort_values(ascending=True).plot.barh()\n"
   ]
  },
  {
   "cell_type": "code",
   "execution_count": 28,
   "metadata": {
    "ExecuteTime": {
     "end_time": "2019-06-27T01:00:26.328849Z",
     "start_time": "2019-06-27T00:06:50.148150Z"
    },
    "scrolled": true
   },
   "outputs": [
    {
     "data": {
      "text/plain": [
       "(XGBRFClassifier(base_score=0.5, colsample_bylevel=1, colsample_bynode=0.8,\n",
       "                 colsample_bytree=1, early_stopping_rounds=100, gamma=0,\n",
       "                 learning_rate=0.05, max_delta_step=0, max_depth=3,\n",
       "                 min_child_weight=1, missing=None, n_estimators=5000, n_jobs=-1,\n",
       "                 nthread=None, objective='binary:logistic', random_state=42,\n",
       "                 reg_alpha=0, reg_lambda=0.01, scale_pos_weight=15,\n",
       "                 scale_pos_weights=15, seed=None, silent=None, subsample=0.8,\n",
       "                 verbosity=1),\n",
       " {'scale_pos_weights': 15,\n",
       "  'reg_lambda': 0.01,\n",
       "  'n_estimators': 5000,\n",
       "  'learning_rate': 0.05},\n",
       " 0.7977925019934209)"
      ]
     },
     "execution_count": 28,
     "metadata": {},
     "output_type": "execute_result"
    }
   ],
   "source": [
    "params = {'n_estimators': [100, 500, 1000, 5000, 10000],\n",
    "          'scale_pos_weights': [1, 5, 10, 15, 20],\n",
    "          'learning_rate': [.0001, .001, .01, .02, .05],\n",
    "          'reg_lambda': [.0001, .001, .01, .02, .05]}\n",
    "search = RandomizedSearchCV(model,\n",
    "                            param_distributions=params,\n",
    "                            scoring='roc_auc',\n",
    "                            n_iter=50,\n",
    "                            cv=5,\n",
    "                            n_jobs=-1)\n",
    "search.fit(X_train_, y_train)\n",
    "search.best_estimator_, search.best_params_, search.best_score_"
   ]
  },
  {
   "cell_type": "code",
   "execution_count": 29,
   "metadata": {
    "ExecuteTime": {
     "end_time": "2019-06-27T01:00:27.014458Z",
     "start_time": "2019-06-27T01:00:26.338845Z"
    }
   },
   "outputs": [],
   "source": [
    "best = search.best_estimator_\n",
    "y_pred_proba1 = best.predict_proba(X_val_)[:, 1]"
   ]
  },
  {
   "cell_type": "code",
   "execution_count": 30,
   "metadata": {
    "ExecuteTime": {
     "end_time": "2019-06-27T01:00:27.030449Z",
     "start_time": "2019-06-27T01:00:27.020454Z"
    }
   },
   "outputs": [],
   "source": [
    "def nice_confusion(y_true, y_pred):\n",
    "    labels = unique_labels(y_true)\n",
    "    columns = [f'Predicted {label}' for label in labels]\n",
    "    index = [f'Actual {label}' for label in labels]\n",
    "    table = pd.DataFrame(confusion_matrix(y_true, y_pred),\n",
    "                         columns=columns,\n",
    "                         index=index)\n",
    "    return sns.heatmap(table, annot=True, fmt='d', cmap='copper_r')"
   ]
  },
  {
   "cell_type": "code",
   "execution_count": 44,
   "metadata": {
    "ExecuteTime": {
     "end_time": "2019-06-27T01:18:20.783344Z",
     "start_time": "2019-06-27T01:18:20.770351Z"
    }
   },
   "outputs": [],
   "source": [
    "def set_threshold(y_true, y_pred_proba, threshold=.51):\n",
    "    \n",
    "    print(f'Threshold: {threshold}')\n",
    "    \n",
    "    # Apply threshold to probabilies of positive prediction.\n",
    "    class_0, class_1 = unique_labels(y_true)\n",
    "    y_pred = np.full_like(y_true, fill_value=class_0)\n",
    "    y_pred[y_pred_proba > threshold] = class_1\n",
    "\n",
    "    # Plot distribution of predicted probabilities.\n",
    "    ax = sns.distplot(y_pred_proba)\n",
    "    ax.axvline(threshold, color='r')\n",
    "    plt.title('Distribution of predicted probabilities')\n",
    "    plt.show()\n",
    "    \n",
    "    # Calculate true positive and false positive rates.\n",
    "    true_pos = (y_pred == y_true) & (y_pred == class_1)\n",
    "    false_pos = (y_pred != y_true) & (y_pred == class_1)\n",
    "    actual_pos = y_true == class_1\n",
    "    actual_neg = y_true == class_0\n",
    "    true_pos_rate = true_pos.sum() / actual_pos.sum()\n",
    "    false_pos_rate = false_pos.sum() / actual_neg.sum()\n",
    "    print(f'True Positive Rate: {true_pos_rate:.4f}')\n",
    "    print(f'False Positive Rate: {false_pos_rate:.4f}')\n",
    "    \n",
    "    # Plot ROC curve.\n",
    "    fpr, tpr, thresholds = roc_curve(y_true==class_1, y_pred_proba)\n",
    "    plt.plot(fpr, tpr)\n",
    "    plt.title('ROC Curve')\n",
    "    plt.ylabel('True Positive Rate')\n",
    "    plt.xlabel('False Positive Rate')\n",
    "    \n",
    "    # Plot point for current threshold.\n",
    "    plt.scatter(false_pos_rate, true_pos_rate)\n",
    "    plt.show()\n",
    "    \n",
    "    print(f'Area under ROC: {roc_auc_score(y_true, y_pred_proba):.4f}')\n",
    "    \n",
    "    nice_confusion(y_true, y_pred)\n",
    "    print(classification_report(y_true, y_pred))\n"
   ]
  },
  {
   "cell_type": "code",
   "execution_count": 45,
   "metadata": {
    "ExecuteTime": {
     "end_time": "2019-06-27T01:18:33.464587Z",
     "start_time": "2019-06-27T01:18:32.545112Z"
    },
    "scrolled": false
   },
   "outputs": [
    {
     "data": {
      "application/vnd.jupyter.widget-view+json": {
       "model_id": "e8b77d94e0e8423e85dbafb5f31c4716",
       "version_major": 2,
       "version_minor": 0
      },
      "text/plain": [
       "interactive(children=(FloatSlider(value=0.51, description='threshold', max=0.52, min=0.49, step=0.0001), Outpu…"
      ]
     },
     "metadata": {},
     "output_type": "display_data"
    }
   ],
   "source": [
    "interact(set_threshold,\n",
    "        y_true=fixed(y_val),\n",
    "        y_pred_proba=fixed(y_pred_proba1),\n",
    "        threshold=(0.49, 0.52, 0.0001));"
   ]
  },
  {
   "cell_type": "markdown",
   "metadata": {},
   "source": [
    "Hyperparameter tuning."
   ]
  },
  {
   "cell_type": "code",
   "execution_count": null,
   "metadata": {},
   "outputs": [],
   "source": []
  },
  {
   "cell_type": "markdown",
   "metadata": {},
   "source": [
    "Test time!!"
   ]
  },
  {
   "cell_type": "code",
   "execution_count": 46,
   "metadata": {
    "ExecuteTime": {
     "end_time": "2019-06-27T01:19:31.495916Z",
     "start_time": "2019-06-27T01:19:30.579438Z"
    }
   },
   "outputs": [
    {
     "name": "stdout",
     "output_type": "stream",
     "text": [
      "Test ROC AUC: 0.7011977851121036\n"
     ]
    }
   ],
   "source": [
    "\n",
    "test_pred_proba = best.predict_proba(X_test_)[:, 1] > 0.5104\n",
    "print(f'Test ROC AUC: {roc_auc_score(y_test, test_pred_proba)}')"
   ]
  },
  {
   "cell_type": "markdown",
   "metadata": {},
   "source": [
    "Find individual instances to examine."
   ]
  },
  {
   "cell_type": "code",
   "execution_count": 47,
   "metadata": {
    "ExecuteTime": {
     "end_time": "2019-06-27T01:19:43.527324Z",
     "start_time": "2019-06-27T01:19:43.472356Z"
    },
    "scrolled": false
   },
   "outputs": [
    {
     "data": {
      "text/html": [
       "<div>\n",
       "<style scoped>\n",
       "    .dataframe tbody tr th:only-of-type {\n",
       "        vertical-align: middle;\n",
       "    }\n",
       "\n",
       "    .dataframe tbody tr th {\n",
       "        vertical-align: top;\n",
       "    }\n",
       "\n",
       "    .dataframe thead th {\n",
       "        text-align: right;\n",
       "    }\n",
       "</style>\n",
       "<table border=\"1\" class=\"dataframe\">\n",
       "  <thead>\n",
       "    <tr style=\"text-align: right;\">\n",
       "      <th></th>\n",
       "      <th>Age</th>\n",
       "      <th>Race</th>\n",
       "      <th>Income</th>\n",
       "      <th>Ownership</th>\n",
       "      <th>Total Household</th>\n",
       "      <th>Zip Code</th>\n",
       "      <th>Employment</th>\n",
       "      <th>Overweight</th>\n",
       "      <th>Good Health</th>\n",
       "      <th>Veg Weekly</th>\n",
       "      <th>Veg Monthly</th>\n",
       "      <th>Sleep Hrs</th>\n",
       "      <th>Insurance</th>\n",
       "      <th>Dr Too Much</th>\n",
       "      <th>Recent Dr Visit</th>\n",
       "      <th>Alcohol</th>\n",
       "      <th>Diabetic</th>\n",
       "    </tr>\n",
       "  </thead>\n",
       "  <tbody>\n",
       "    <tr>\n",
       "      <th>53755</th>\n",
       "      <td>45-49</td>\n",
       "      <td>White</td>\n",
       "      <td>$15-20K</td>\n",
       "      <td>Rent</td>\n",
       "      <td>5.0</td>\n",
       "      <td>98362</td>\n",
       "      <td>Unknown</td>\n",
       "      <td>Obese</td>\n",
       "      <td>Fair</td>\n",
       "      <td>False</td>\n",
       "      <td>False</td>\n",
       "      <td>NaN</td>\n",
       "      <td>No</td>\n",
       "      <td>Yes</td>\n",
       "      <td>1-2 years</td>\n",
       "      <td>05</td>\n",
       "      <td>False</td>\n",
       "    </tr>\n",
       "    <tr>\n",
       "      <th>54105</th>\n",
       "      <td>45-49</td>\n",
       "      <td>White</td>\n",
       "      <td>$75+</td>\n",
       "      <td>Own</td>\n",
       "      <td>3.0</td>\n",
       "      <td>98019</td>\n",
       "      <td>Unknown</td>\n",
       "      <td>Obese</td>\n",
       "      <td>Very Good</td>\n",
       "      <td>False</td>\n",
       "      <td>False</td>\n",
       "      <td>NaN</td>\n",
       "      <td>Yes</td>\n",
       "      <td>No</td>\n",
       "      <td>2-5 years</td>\n",
       "      <td>06</td>\n",
       "      <td>False</td>\n",
       "    </tr>\n",
       "    <tr>\n",
       "      <th>54693</th>\n",
       "      <td>55-59</td>\n",
       "      <td>AIAN</td>\n",
       "      <td>$35-50K</td>\n",
       "      <td>Own</td>\n",
       "      <td>3.0</td>\n",
       "      <td>98356</td>\n",
       "      <td>Unknown</td>\n",
       "      <td>Obese</td>\n",
       "      <td>Good</td>\n",
       "      <td>False</td>\n",
       "      <td>False</td>\n",
       "      <td>NaN</td>\n",
       "      <td>Yes</td>\n",
       "      <td>Yes</td>\n",
       "      <td>Past Year</td>\n",
       "      <td>02</td>\n",
       "      <td>False</td>\n",
       "    </tr>\n",
       "    <tr>\n",
       "      <th>31580</th>\n",
       "      <td>30-34</td>\n",
       "      <td>White</td>\n",
       "      <td>$35-50K</td>\n",
       "      <td>Own</td>\n",
       "      <td>6.0</td>\n",
       "      <td>98338</td>\n",
       "      <td>Unknown</td>\n",
       "      <td>Unknown</td>\n",
       "      <td>Fair</td>\n",
       "      <td>True</td>\n",
       "      <td>False</td>\n",
       "      <td>4.0</td>\n",
       "      <td>Yes</td>\n",
       "      <td>Yes</td>\n",
       "      <td>5+ years</td>\n",
       "      <td>Unknown</td>\n",
       "      <td>False</td>\n",
       "    </tr>\n",
       "    <tr>\n",
       "      <th>13630</th>\n",
       "      <td>25-29</td>\n",
       "      <td>NHOPI</td>\n",
       "      <td>$75+</td>\n",
       "      <td>Own</td>\n",
       "      <td>5.0</td>\n",
       "      <td>98513</td>\n",
       "      <td>Employed for wages</td>\n",
       "      <td>Obese</td>\n",
       "      <td>Good</td>\n",
       "      <td>False</td>\n",
       "      <td>False</td>\n",
       "      <td>NaN</td>\n",
       "      <td>Yes</td>\n",
       "      <td>No</td>\n",
       "      <td>Past Year</td>\n",
       "      <td>02</td>\n",
       "      <td>False</td>\n",
       "    </tr>\n",
       "    <tr>\n",
       "      <th>87793</th>\n",
       "      <td>18-24</td>\n",
       "      <td>White</td>\n",
       "      <td>$15-20K</td>\n",
       "      <td>Rent</td>\n",
       "      <td>3.0</td>\n",
       "      <td>98225</td>\n",
       "      <td>Unknown</td>\n",
       "      <td>Normal</td>\n",
       "      <td>Good</td>\n",
       "      <td>False</td>\n",
       "      <td>False</td>\n",
       "      <td>NaN</td>\n",
       "      <td>Yes</td>\n",
       "      <td>No</td>\n",
       "      <td>Past Year</td>\n",
       "      <td>12</td>\n",
       "      <td>False</td>\n",
       "    </tr>\n",
       "    <tr>\n",
       "      <th>67261</th>\n",
       "      <td>60-64</td>\n",
       "      <td>White</td>\n",
       "      <td>$35-50K</td>\n",
       "      <td>Own</td>\n",
       "      <td>1.0</td>\n",
       "      <td>98042</td>\n",
       "      <td>Unknown</td>\n",
       "      <td>Over</td>\n",
       "      <td>Poor</td>\n",
       "      <td>False</td>\n",
       "      <td>False</td>\n",
       "      <td>NaN</td>\n",
       "      <td>No</td>\n",
       "      <td>Yes</td>\n",
       "      <td>Past Year</td>\n",
       "      <td>30</td>\n",
       "      <td>True</td>\n",
       "    </tr>\n",
       "    <tr>\n",
       "      <th>31436</th>\n",
       "      <td>70-74</td>\n",
       "      <td>White</td>\n",
       "      <td>$10-15K</td>\n",
       "      <td>Own</td>\n",
       "      <td>2.0</td>\n",
       "      <td>98584</td>\n",
       "      <td>Unknown</td>\n",
       "      <td>Over</td>\n",
       "      <td>Good</td>\n",
       "      <td>False</td>\n",
       "      <td>False</td>\n",
       "      <td>7.0</td>\n",
       "      <td>Unknown</td>\n",
       "      <td>No</td>\n",
       "      <td>Past Year</td>\n",
       "      <td>30</td>\n",
       "      <td>False</td>\n",
       "    </tr>\n",
       "    <tr>\n",
       "      <th>1679</th>\n",
       "      <td>65-69</td>\n",
       "      <td>White</td>\n",
       "      <td>$75+</td>\n",
       "      <td>Own</td>\n",
       "      <td>2.0</td>\n",
       "      <td>98119</td>\n",
       "      <td>Retired</td>\n",
       "      <td>Normal</td>\n",
       "      <td>Good</td>\n",
       "      <td>False</td>\n",
       "      <td>True</td>\n",
       "      <td>NaN</td>\n",
       "      <td>Unknown</td>\n",
       "      <td>No</td>\n",
       "      <td>Past Year</td>\n",
       "      <td>30</td>\n",
       "      <td>False</td>\n",
       "    </tr>\n",
       "    <tr>\n",
       "      <th>82568</th>\n",
       "      <td>70-74</td>\n",
       "      <td>White</td>\n",
       "      <td>$75+</td>\n",
       "      <td>Own</td>\n",
       "      <td>2.0</td>\n",
       "      <td>98236</td>\n",
       "      <td>Unknown</td>\n",
       "      <td>Normal</td>\n",
       "      <td>Very Good</td>\n",
       "      <td>True</td>\n",
       "      <td>False</td>\n",
       "      <td>NaN</td>\n",
       "      <td>Unknown</td>\n",
       "      <td>No</td>\n",
       "      <td>Past Year</td>\n",
       "      <td>28</td>\n",
       "      <td>True</td>\n",
       "    </tr>\n",
       "    <tr>\n",
       "      <th>62508</th>\n",
       "      <td>18-24</td>\n",
       "      <td>Hisp.</td>\n",
       "      <td>Don't\\nKnow</td>\n",
       "      <td>Rent</td>\n",
       "      <td>2.0</td>\n",
       "      <td>98087</td>\n",
       "      <td>Unknown</td>\n",
       "      <td>Unknown</td>\n",
       "      <td>Good</td>\n",
       "      <td>False</td>\n",
       "      <td>True</td>\n",
       "      <td>NaN</td>\n",
       "      <td>No</td>\n",
       "      <td>No</td>\n",
       "      <td>Past Year</td>\n",
       "      <td>Unknown</td>\n",
       "      <td>False</td>\n",
       "    </tr>\n",
       "    <tr>\n",
       "      <th>60040</th>\n",
       "      <td>55-59</td>\n",
       "      <td>White</td>\n",
       "      <td>$75+</td>\n",
       "      <td>Own</td>\n",
       "      <td>2.0</td>\n",
       "      <td>98119</td>\n",
       "      <td>Unknown</td>\n",
       "      <td>Normal</td>\n",
       "      <td>Very Good</td>\n",
       "      <td>False</td>\n",
       "      <td>False</td>\n",
       "      <td>NaN</td>\n",
       "      <td>Yes</td>\n",
       "      <td>No</td>\n",
       "      <td>Past Year</td>\n",
       "      <td>Unknown</td>\n",
       "      <td>False</td>\n",
       "    </tr>\n",
       "    <tr>\n",
       "      <th>55986</th>\n",
       "      <td>80-84</td>\n",
       "      <td>White</td>\n",
       "      <td>Don't\\nKnow</td>\n",
       "      <td>Rent</td>\n",
       "      <td>2.0</td>\n",
       "      <td>98663</td>\n",
       "      <td>Unknown</td>\n",
       "      <td>Over</td>\n",
       "      <td>Good</td>\n",
       "      <td>False</td>\n",
       "      <td>False</td>\n",
       "      <td>NaN</td>\n",
       "      <td>Unknown</td>\n",
       "      <td>No</td>\n",
       "      <td>5+ years</td>\n",
       "      <td>28</td>\n",
       "      <td>False</td>\n",
       "    </tr>\n",
       "    <tr>\n",
       "      <th>65666</th>\n",
       "      <td>40-44</td>\n",
       "      <td>White</td>\n",
       "      <td>$15-20K</td>\n",
       "      <td>Rent</td>\n",
       "      <td>4.0</td>\n",
       "      <td>98816</td>\n",
       "      <td>Unknown</td>\n",
       "      <td>Obese</td>\n",
       "      <td>Fair</td>\n",
       "      <td>False</td>\n",
       "      <td>False</td>\n",
       "      <td>NaN</td>\n",
       "      <td>Yes</td>\n",
       "      <td>Yes</td>\n",
       "      <td>2-5 years</td>\n",
       "      <td>Unknown</td>\n",
       "      <td>False</td>\n",
       "    </tr>\n",
       "    <tr>\n",
       "      <th>55243</th>\n",
       "      <td>50-54</td>\n",
       "      <td>White</td>\n",
       "      <td>$75+</td>\n",
       "      <td>Own</td>\n",
       "      <td>4.0</td>\n",
       "      <td>98021</td>\n",
       "      <td>Unknown</td>\n",
       "      <td>Over</td>\n",
       "      <td>Excellent</td>\n",
       "      <td>False</td>\n",
       "      <td>False</td>\n",
       "      <td>NaN</td>\n",
       "      <td>Yes</td>\n",
       "      <td>No</td>\n",
       "      <td>Past Year</td>\n",
       "      <td>12</td>\n",
       "      <td>False</td>\n",
       "    </tr>\n",
       "    <tr>\n",
       "      <th>82918</th>\n",
       "      <td>45-49</td>\n",
       "      <td>White</td>\n",
       "      <td>$35-50K</td>\n",
       "      <td>Other</td>\n",
       "      <td>1.0</td>\n",
       "      <td>98940</td>\n",
       "      <td>Unknown</td>\n",
       "      <td>Normal</td>\n",
       "      <td>Very Good</td>\n",
       "      <td>False</td>\n",
       "      <td>False</td>\n",
       "      <td>NaN</td>\n",
       "      <td>No</td>\n",
       "      <td>No</td>\n",
       "      <td>DK</td>\n",
       "      <td>12</td>\n",
       "      <td>False</td>\n",
       "    </tr>\n",
       "    <tr>\n",
       "      <th>36063</th>\n",
       "      <td>25-29</td>\n",
       "      <td>Hisp.</td>\n",
       "      <td>$35-50K</td>\n",
       "      <td>Own</td>\n",
       "      <td>2.0</td>\n",
       "      <td>98270</td>\n",
       "      <td>Unknown</td>\n",
       "      <td>Obese</td>\n",
       "      <td>Fair</td>\n",
       "      <td>False</td>\n",
       "      <td>False</td>\n",
       "      <td>7.0</td>\n",
       "      <td>Yes</td>\n",
       "      <td>Yes</td>\n",
       "      <td>Past Year</td>\n",
       "      <td>03</td>\n",
       "      <td>False</td>\n",
       "    </tr>\n",
       "    <tr>\n",
       "      <th>12997</th>\n",
       "      <td>65-69</td>\n",
       "      <td>Other</td>\n",
       "      <td>$25-35K</td>\n",
       "      <td>Own</td>\n",
       "      <td>2.0</td>\n",
       "      <td>98277</td>\n",
       "      <td>Retired</td>\n",
       "      <td>Obese</td>\n",
       "      <td>Poor</td>\n",
       "      <td>False</td>\n",
       "      <td>True</td>\n",
       "      <td>NaN</td>\n",
       "      <td>Unknown</td>\n",
       "      <td>No</td>\n",
       "      <td>Past Year</td>\n",
       "      <td>Unknown</td>\n",
       "      <td>True</td>\n",
       "    </tr>\n",
       "    <tr>\n",
       "      <th>52973</th>\n",
       "      <td>80-84</td>\n",
       "      <td>White</td>\n",
       "      <td>$25-35K</td>\n",
       "      <td>Own</td>\n",
       "      <td>1.0</td>\n",
       "      <td>98406</td>\n",
       "      <td>Unknown</td>\n",
       "      <td>Normal</td>\n",
       "      <td>Very Good</td>\n",
       "      <td>False</td>\n",
       "      <td>False</td>\n",
       "      <td>NaN</td>\n",
       "      <td>Unknown</td>\n",
       "      <td>No</td>\n",
       "      <td>Past Year</td>\n",
       "      <td>Unknown</td>\n",
       "      <td>False</td>\n",
       "    </tr>\n",
       "    <tr>\n",
       "      <th>31670</th>\n",
       "      <td>65-69</td>\n",
       "      <td>White</td>\n",
       "      <td>$10-15K</td>\n",
       "      <td>Rent</td>\n",
       "      <td>1.0</td>\n",
       "      <td>98467</td>\n",
       "      <td>Unknown</td>\n",
       "      <td>Over</td>\n",
       "      <td>Good</td>\n",
       "      <td>False</td>\n",
       "      <td>False</td>\n",
       "      <td>8.0</td>\n",
       "      <td>Unknown</td>\n",
       "      <td>No</td>\n",
       "      <td>Past Year</td>\n",
       "      <td>30</td>\n",
       "      <td>False</td>\n",
       "    </tr>\n",
       "  </tbody>\n",
       "</table>\n",
       "</div>"
      ],
      "text/plain": [
       "         Age   Race       Income Ownership  Total Household Zip Code  \\\n",
       "53755  45-49  White      $15-20K      Rent              5.0    98362   \n",
       "54105  45-49  White         $75+       Own              3.0    98019   \n",
       "54693  55-59   AIAN      $35-50K       Own              3.0    98356   \n",
       "31580  30-34  White      $35-50K       Own              6.0    98338   \n",
       "13630  25-29  NHOPI         $75+       Own              5.0    98513   \n",
       "87793  18-24  White      $15-20K      Rent              3.0    98225   \n",
       "67261  60-64  White      $35-50K       Own              1.0    98042   \n",
       "31436  70-74  White      $10-15K       Own              2.0    98584   \n",
       "1679   65-69  White         $75+       Own              2.0    98119   \n",
       "82568  70-74  White         $75+       Own              2.0    98236   \n",
       "62508  18-24  Hisp.  Don't\\nKnow      Rent              2.0    98087   \n",
       "60040  55-59  White         $75+       Own              2.0    98119   \n",
       "55986  80-84  White  Don't\\nKnow      Rent              2.0    98663   \n",
       "65666  40-44  White      $15-20K      Rent              4.0    98816   \n",
       "55243  50-54  White         $75+       Own              4.0    98021   \n",
       "82918  45-49  White      $35-50K     Other              1.0    98940   \n",
       "36063  25-29  Hisp.      $35-50K       Own              2.0    98270   \n",
       "12997  65-69  Other      $25-35K       Own              2.0    98277   \n",
       "52973  80-84  White      $25-35K       Own              1.0    98406   \n",
       "31670  65-69  White      $10-15K      Rent              1.0    98467   \n",
       "\n",
       "               Employment Overweight Good Health  Veg Weekly  Veg Monthly  \\\n",
       "53755             Unknown      Obese        Fair       False        False   \n",
       "54105             Unknown      Obese   Very Good       False        False   \n",
       "54693             Unknown      Obese        Good       False        False   \n",
       "31580             Unknown    Unknown        Fair        True        False   \n",
       "13630  Employed for wages      Obese        Good       False        False   \n",
       "87793             Unknown     Normal        Good       False        False   \n",
       "67261             Unknown       Over        Poor       False        False   \n",
       "31436             Unknown       Over        Good       False        False   \n",
       "1679              Retired     Normal        Good       False         True   \n",
       "82568             Unknown     Normal   Very Good        True        False   \n",
       "62508             Unknown    Unknown        Good       False         True   \n",
       "60040             Unknown     Normal   Very Good       False        False   \n",
       "55986             Unknown       Over        Good       False        False   \n",
       "65666             Unknown      Obese        Fair       False        False   \n",
       "55243             Unknown       Over   Excellent       False        False   \n",
       "82918             Unknown     Normal   Very Good       False        False   \n",
       "36063             Unknown      Obese        Fair       False        False   \n",
       "12997             Retired      Obese        Poor       False         True   \n",
       "52973             Unknown     Normal   Very Good       False        False   \n",
       "31670             Unknown       Over        Good       False        False   \n",
       "\n",
       "       Sleep Hrs Insurance Dr Too Much Recent Dr Visit  Alcohol  Diabetic  \n",
       "53755        NaN        No         Yes       1-2 years       05     False  \n",
       "54105        NaN       Yes          No       2-5 years       06     False  \n",
       "54693        NaN       Yes         Yes       Past Year       02     False  \n",
       "31580        4.0       Yes         Yes        5+ years  Unknown     False  \n",
       "13630        NaN       Yes          No       Past Year       02     False  \n",
       "87793        NaN       Yes          No       Past Year       12     False  \n",
       "67261        NaN        No         Yes       Past Year       30      True  \n",
       "31436        7.0   Unknown          No       Past Year       30     False  \n",
       "1679         NaN   Unknown          No       Past Year       30     False  \n",
       "82568        NaN   Unknown          No       Past Year       28      True  \n",
       "62508        NaN        No          No       Past Year  Unknown     False  \n",
       "60040        NaN       Yes          No       Past Year  Unknown     False  \n",
       "55986        NaN   Unknown          No        5+ years       28     False  \n",
       "65666        NaN       Yes         Yes       2-5 years  Unknown     False  \n",
       "55243        NaN       Yes          No       Past Year       12     False  \n",
       "82918        NaN        No          No              DK       12     False  \n",
       "36063        7.0       Yes         Yes       Past Year       03     False  \n",
       "12997        NaN   Unknown          No       Past Year  Unknown      True  \n",
       "52973        NaN   Unknown          No       Past Year  Unknown     False  \n",
       "31670        8.0   Unknown          No       Past Year       30     False  "
      ]
     },
     "execution_count": 47,
     "metadata": {},
     "output_type": "execute_result"
    }
   ],
   "source": [
    "test_trimmed1 = pd.concat([test_trimmed, y_test], axis=1, sort=False)\n",
    "test_trimmed1.tail(20)"
   ]
  },
  {
   "cell_type": "code",
   "execution_count": 48,
   "metadata": {
    "ExecuteTime": {
     "end_time": "2019-06-27T01:19:59.099725Z",
     "start_time": "2019-06-27T01:19:58.953806Z"
    }
   },
   "outputs": [
    {
     "name": "stdout",
     "output_type": "stream",
     "text": [
      "True True 0.5161292\n"
     ]
    },
    {
     "data": {
      "text/html": [
       "<div>\n",
       "<style scoped>\n",
       "    .dataframe tbody tr th:only-of-type {\n",
       "        vertical-align: middle;\n",
       "    }\n",
       "\n",
       "    .dataframe tbody tr th {\n",
       "        vertical-align: top;\n",
       "    }\n",
       "\n",
       "    .dataframe thead th {\n",
       "        text-align: right;\n",
       "    }\n",
       "</style>\n",
       "<table border=\"1\" class=\"dataframe\">\n",
       "  <thead>\n",
       "    <tr style=\"text-align: right;\">\n",
       "      <th></th>\n",
       "      <th>Age</th>\n",
       "      <th>Race</th>\n",
       "      <th>Income</th>\n",
       "      <th>Ownership</th>\n",
       "      <th>Total Household</th>\n",
       "      <th>Zip Code</th>\n",
       "      <th>Employment</th>\n",
       "      <th>Overweight</th>\n",
       "      <th>Good Health</th>\n",
       "      <th>Veg Weekly</th>\n",
       "      <th>Veg Monthly</th>\n",
       "      <th>Sleep Hrs</th>\n",
       "      <th>Insurance</th>\n",
       "      <th>Dr Too Much</th>\n",
       "      <th>Recent Dr Visit</th>\n",
       "      <th>Alcohol</th>\n",
       "      <th>Diabetic</th>\n",
       "    </tr>\n",
       "  </thead>\n",
       "  <tbody>\n",
       "    <tr>\n",
       "      <th>85970</th>\n",
       "      <td>55-59</td>\n",
       "      <td>White</td>\n",
       "      <td>$25-35K</td>\n",
       "      <td>Own</td>\n",
       "      <td>1.0</td>\n",
       "      <td>98584</td>\n",
       "      <td>Unknown</td>\n",
       "      <td>Obese</td>\n",
       "      <td>Good</td>\n",
       "      <td>False</td>\n",
       "      <td>False</td>\n",
       "      <td>NaN</td>\n",
       "      <td>Yes</td>\n",
       "      <td>No</td>\n",
       "      <td>Past Year</td>\n",
       "      <td>Unknown</td>\n",
       "      <td>True</td>\n",
       "    </tr>\n",
       "  </tbody>\n",
       "</table>\n",
       "</div>"
      ],
      "text/plain": [
       "         Age   Race   Income Ownership  Total Household Zip Code Employment  \\\n",
       "85970  55-59  White  $25-35K       Own              1.0    98584    Unknown   \n",
       "\n",
       "      Overweight Good Health  Veg Weekly  Veg Monthly  Sleep Hrs Insurance  \\\n",
       "85970      Obese        Good       False        False        NaN       Yes   \n",
       "\n",
       "      Dr Too Much Recent Dr Visit  Alcohol  Diabetic  \n",
       "85970          No       Past Year  Unknown      True  "
      ]
     },
     "execution_count": 48,
     "metadata": {},
     "output_type": "execute_result"
    }
   ],
   "source": [
    "data = test_trimmed1[test_trimmed1.index == 85970]\n",
    "data_ = data.drop(columns='Diabetic')\n",
    "data_ = pipeline1.transform(data_)\n",
    "print(model.predict(data_)[0], best.predict_proba(data_)[:, 1][0] > 0.5104, best.predict_proba(data_)[:, 1][0])\n",
    "data"
   ]
  },
  {
   "cell_type": "code",
   "execution_count": 49,
   "metadata": {
    "ExecuteTime": {
     "end_time": "2019-06-27T01:20:14.360980Z",
     "start_time": "2019-06-27T01:20:14.277027Z"
    }
   },
   "outputs": [
    {
     "name": "stdout",
     "output_type": "stream",
     "text": [
      "True False 0.50340295\n"
     ]
    },
    {
     "data": {
      "text/html": [
       "<div>\n",
       "<style scoped>\n",
       "    .dataframe tbody tr th:only-of-type {\n",
       "        vertical-align: middle;\n",
       "    }\n",
       "\n",
       "    .dataframe tbody tr th {\n",
       "        vertical-align: top;\n",
       "    }\n",
       "\n",
       "    .dataframe thead th {\n",
       "        text-align: right;\n",
       "    }\n",
       "</style>\n",
       "<table border=\"1\" class=\"dataframe\">\n",
       "  <thead>\n",
       "    <tr style=\"text-align: right;\">\n",
       "      <th></th>\n",
       "      <th>Age</th>\n",
       "      <th>Race</th>\n",
       "      <th>Income</th>\n",
       "      <th>Ownership</th>\n",
       "      <th>Total Household</th>\n",
       "      <th>Zip Code</th>\n",
       "      <th>Employment</th>\n",
       "      <th>Overweight</th>\n",
       "      <th>Good Health</th>\n",
       "      <th>Veg Weekly</th>\n",
       "      <th>Veg Monthly</th>\n",
       "      <th>Sleep Hrs</th>\n",
       "      <th>Insurance</th>\n",
       "      <th>Dr Too Much</th>\n",
       "      <th>Recent Dr Visit</th>\n",
       "      <th>Alcohol</th>\n",
       "      <th>Diabetic</th>\n",
       "    </tr>\n",
       "  </thead>\n",
       "  <tbody>\n",
       "    <tr>\n",
       "      <th>82568</th>\n",
       "      <td>70-74</td>\n",
       "      <td>White</td>\n",
       "      <td>$75+</td>\n",
       "      <td>Own</td>\n",
       "      <td>2.0</td>\n",
       "      <td>98236</td>\n",
       "      <td>Unknown</td>\n",
       "      <td>Normal</td>\n",
       "      <td>Very Good</td>\n",
       "      <td>True</td>\n",
       "      <td>False</td>\n",
       "      <td>NaN</td>\n",
       "      <td>Unknown</td>\n",
       "      <td>No</td>\n",
       "      <td>Past Year</td>\n",
       "      <td>28</td>\n",
       "      <td>True</td>\n",
       "    </tr>\n",
       "  </tbody>\n",
       "</table>\n",
       "</div>"
      ],
      "text/plain": [
       "         Age   Race Income Ownership  Total Household Zip Code Employment  \\\n",
       "82568  70-74  White   $75+       Own              2.0    98236    Unknown   \n",
       "\n",
       "      Overweight Good Health  Veg Weekly  Veg Monthly  Sleep Hrs Insurance  \\\n",
       "82568     Normal   Very Good        True        False        NaN   Unknown   \n",
       "\n",
       "      Dr Too Much Recent Dr Visit Alcohol  Diabetic  \n",
       "82568          No       Past Year      28      True  "
      ]
     },
     "execution_count": 49,
     "metadata": {},
     "output_type": "execute_result"
    }
   ],
   "source": [
    "data = test_trimmed1[test_trimmed1.index == 82568]\n",
    "data_ = data.drop(columns='Diabetic')\n",
    "data_ = pipeline1.transform(data_)\n",
    "print(model.predict(data_)[0], best.predict_proba(data_)[:, 1][0] > 0.5104, best.predict_proba(data_)[:, 1][0])\n",
    "data"
   ]
  },
  {
   "cell_type": "code",
   "execution_count": 51,
   "metadata": {
    "ExecuteTime": {
     "end_time": "2019-06-27T01:24:42.791480Z",
     "start_time": "2019-06-27T01:24:42.706531Z"
    }
   },
   "outputs": [
    {
     "name": "stdout",
     "output_type": "stream",
     "text": [
      "True True 0.516188\n"
     ]
    },
    {
     "data": {
      "text/html": [
       "<div>\n",
       "<style scoped>\n",
       "    .dataframe tbody tr th:only-of-type {\n",
       "        vertical-align: middle;\n",
       "    }\n",
       "\n",
       "    .dataframe tbody tr th {\n",
       "        vertical-align: top;\n",
       "    }\n",
       "\n",
       "    .dataframe thead th {\n",
       "        text-align: right;\n",
       "    }\n",
       "</style>\n",
       "<table border=\"1\" class=\"dataframe\">\n",
       "  <thead>\n",
       "    <tr style=\"text-align: right;\">\n",
       "      <th></th>\n",
       "      <th>Age</th>\n",
       "      <th>Race</th>\n",
       "      <th>Income</th>\n",
       "      <th>Ownership</th>\n",
       "      <th>Total Household</th>\n",
       "      <th>Zip Code</th>\n",
       "      <th>Employment</th>\n",
       "      <th>Overweight</th>\n",
       "      <th>Good Health</th>\n",
       "      <th>Veg Weekly</th>\n",
       "      <th>Veg Monthly</th>\n",
       "      <th>Sleep Hrs</th>\n",
       "      <th>Insurance</th>\n",
       "      <th>Dr Too Much</th>\n",
       "      <th>Recent Dr Visit</th>\n",
       "      <th>Alcohol</th>\n",
       "      <th>Diabetic</th>\n",
       "    </tr>\n",
       "  </thead>\n",
       "  <tbody>\n",
       "    <tr>\n",
       "      <th>12997</th>\n",
       "      <td>65-69</td>\n",
       "      <td>Other</td>\n",
       "      <td>$25-35K</td>\n",
       "      <td>Own</td>\n",
       "      <td>2.0</td>\n",
       "      <td>98277</td>\n",
       "      <td>Retired</td>\n",
       "      <td>Obese</td>\n",
       "      <td>Poor</td>\n",
       "      <td>False</td>\n",
       "      <td>True</td>\n",
       "      <td>NaN</td>\n",
       "      <td>Unknown</td>\n",
       "      <td>No</td>\n",
       "      <td>Past Year</td>\n",
       "      <td>Unknown</td>\n",
       "      <td>True</td>\n",
       "    </tr>\n",
       "  </tbody>\n",
       "</table>\n",
       "</div>"
      ],
      "text/plain": [
       "         Age   Race   Income Ownership  Total Household Zip Code Employment  \\\n",
       "12997  65-69  Other  $25-35K       Own              2.0    98277    Retired   \n",
       "\n",
       "      Overweight Good Health  Veg Weekly  Veg Monthly  Sleep Hrs Insurance  \\\n",
       "12997      Obese        Poor       False         True        NaN   Unknown   \n",
       "\n",
       "      Dr Too Much Recent Dr Visit  Alcohol  Diabetic  \n",
       "12997          No       Past Year  Unknown      True  "
      ]
     },
     "execution_count": 51,
     "metadata": {},
     "output_type": "execute_result"
    }
   ],
   "source": [
    "data = test_trimmed1[test_trimmed1.index == 12997]\n",
    "data_ = data.drop(columns='Diabetic')\n",
    "data_ = pipeline1.transform(data_)\n",
    "print(model.predict(data_)[0], best.predict_proba(data_)[:, 1][0] > 0.5104, best.predict_proba(data_)[:, 1][0])\n",
    "data"
   ]
  },
  {
   "cell_type": "markdown",
   "metadata": {},
   "source": [
    " Start building mechanism to choose parameters for custom predictions."
   ]
  },
  {
   "cell_type": "code",
   "execution_count": null,
   "metadata": {},
   "outputs": [],
   "source": []
  }
 ],
 "metadata": {
  "kernelspec": {
   "display_name": "Python 3",
   "language": "python",
   "name": "python3"
  },
  "language_info": {
   "codemirror_mode": {
    "name": "ipython",
    "version": 3
   },
   "file_extension": ".py",
   "mimetype": "text/x-python",
   "name": "python",
   "nbconvert_exporter": "python",
   "pygments_lexer": "ipython3",
   "version": "3.6.8"
  },
  "varInspector": {
   "cols": {
    "lenName": 16,
    "lenType": 16,
    "lenVar": 40
   },
   "kernels_config": {
    "python": {
     "delete_cmd_postfix": "",
     "delete_cmd_prefix": "del ",
     "library": "var_list.py",
     "varRefreshCmd": "print(var_dic_list())"
    },
    "r": {
     "delete_cmd_postfix": ") ",
     "delete_cmd_prefix": "rm(",
     "library": "var_list.r",
     "varRefreshCmd": "cat(var_dic_list()) "
    }
   },
   "oldHeight": 122,
   "position": {
    "height": "40px",
    "left": "626.969px",
    "right": "20px",
    "top": "5.98438px",
    "width": "250px"
   },
   "types_to_exclude": [
    "module",
    "function",
    "builtin_function_or_method",
    "instance",
    "_Feature"
   ],
   "varInspector_section_display": "none",
   "window_display": true
  }
 },
 "nbformat": 4,
 "nbformat_minor": 2
}
