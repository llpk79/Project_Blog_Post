{
 "cells": [
  {
   "cell_type": "code",
   "execution_count": 1,
   "metadata": {},
   "outputs": [
    {
     "name": "stdout",
     "output_type": "stream",
     "text": [
      " Volume in drive C is OS\n",
      " Volume Serial Number is AA23-606F\n",
      "\n",
      " Directory of C:\\Users\\Paul\\PycharmProjects\\BlogPost\n",
      "\n",
      "05/22/2019  05:50 PM    <DIR>          .\n",
      "05/22/2019  05:50 PM    <DIR>          ..\n",
      "05/20/2019  07:40 PM             1,454 .gitignore\n",
      "05/22/2019  05:47 PM    <DIR>          .idea\n",
      "05/21/2019  05:04 PM    <DIR>          .ipynb_checkpoints\n",
      "05/22/2019  05:50 PM            93,626 BlogPost.ipynb\n",
      "05/20/2019  07:43 PM    <DIR>          data\n",
      "05/22/2019  05:29 PM             7,875 main.py\n",
      "05/20/2019  07:01 PM             4,930 readme.md\n",
      "05/21/2019  04:11 PM    <DIR>          __pycache__\n",
      "               4 File(s)        107,885 bytes\n",
      "               6 Dir(s)  84,587,884,544 bytes free\n"
     ]
    }
   ],
   "source": [
    "!dir"
   ]
  },
  {
   "cell_type": "code",
   "execution_count": 2,
   "metadata": {
    "collapsed": true
   },
   "outputs": [],
   "source": [
    "%matplotlib inline"
   ]
  },
  {
   "cell_type": "code",
   "execution_count": 3,
   "metadata": {},
   "outputs": [
    {
     "name": "stdout",
     "output_type": "stream",
     "text": [
      "         Year    Age   Race   Income  Over Median Income  Adults  Children  \\\n",
      "51336  2015.0  25-29  White     $75+                True     2.0       0.0   \n",
      "51337  2015.0  18-24  Black  $25-35K               False     1.0       3.0   \n",
      "51338  2015.0  18-24  Black  $25-35K               False     1.0       1.0   \n",
      "51339  2015.0  18-24  White  $35-50K               False     2.0       0.0   \n",
      "51340  2015.0  45-49  White     $75+                True     3.0       1.0   \n",
      "\n",
      "       Household Size  Zip-code  In Food Desert  Unemployed  Active  \\\n",
      "51336             2.0   98908.0           False       False   False   \n",
      "51337             4.0   98208.0           False       False   False   \n",
      "51338             2.0   98433.0           False       False   False   \n",
      "51339             2.0   98122.0           False       False   False   \n",
      "51340             4.0   98686.0           False       False   False   \n",
      "\n",
      "      Overweight Pre-Diabetic Diabetic  Good-health  No Veg  No Fruit  \\\n",
      "51336      False        False    False         True   False     False   \n",
      "51337      False        False    False         True   False     False   \n",
      "51338       True        False    False         True   False     False   \n",
      "51339       True        False    False         True   False     False   \n",
      "51340       True        False    False         True   False     False   \n",
      "\n",
      "       Fruit Daily  Veg Daily  Fruit Weekly  Veg Weekly  Fruit Monthly  \\\n",
      "51336         True       True         False       False          False   \n",
      "51337         True       True         False       False          False   \n",
      "51338         True       True         False       False          False   \n",
      "51339         True       True         False       False          False   \n",
      "51340         True       True         False       False          False   \n",
      "\n",
      "       Veg Monthly  \n",
      "51336        False  \n",
      "51337        False  \n",
      "51338        False  \n",
      "51339        False  \n",
      "51340        False  \n"
     ]
    }
   ],
   "source": [
    "%run -i main.py"
   ]
  },
  {
   "cell_type": "code",
   "execution_count": 94,
   "metadata": {},
   "outputs": [
    {
     "data": {
      "image/png": "[encoded data removed]",
      "text/plain": [
       "<Figure size 648x288 with 1 Axes>"
      ]
     },
     "metadata": {},
     "output_type": "display_data"
    }
   ],
   "source": [
    "by_race = df15.melt(id_vars='Race',\n",
    "                   value_vars='In Food Desert',\n",
    "                   value_name='in food desert')\n",
    "fig = plt.figure(figsize=(9, 4))\n",
    "ax = fig.gca()\n",
    "sns.barplot('Race',\n",
    "           'in food desert',\n",
    "           data=by_race,\n",
    "           ci=.99,\n",
    "           ax=ax)\n",
    "races = by_race['Race'].value_counts().index\n",
    "for x, race in enumerate(races):\n",
    "    plt.text(x=x, y=.03, s=race, ha='center', fontsize=15)\n",
    "plt.title('Percentage of King County residents living in food deserts, by race. 2015', fontsize=15, pad=10)\n",
    "ax.set_xticks([])\n",
    "ax.set_xlabel('')\n",
    "ax.set_ylim(0, .14)\n",
    "ax.set_yticklabels(['0','2', '4', '6', '8', '10', '%'], fontsize=12)\n",
    "ax.set_ylabel('% Of Race In Food Deserts', fontsize=15)\n",
    "plt.tight_layout()"
   ]
  },
  {
   "cell_type": "code",
   "execution_count": 103,
   "metadata": {},
   "outputs": [
    {
     "data": {
      "text/html": [
       "<div>\n",
       "<style scoped>\n",
       "    .dataframe tbody tr th:only-of-type {\n",
       "        vertical-align: middle;\n",
       "    }\n",
       "\n",
       "    .dataframe tbody tr th {\n",
       "        vertical-align: top;\n",
       "    }\n",
       "\n",
       "    .dataframe thead th {\n",
       "        text-align: right;\n",
       "    }\n",
       "</style>\n",
       "<table border=\"1\" class=\"dataframe\">\n",
       "  <thead>\n",
       "    <tr style=\"text-align: right;\">\n",
       "      <th></th>\n",
       "      <th>Race</th>\n",
       "      <th>variable</th>\n",
       "      <th>in food desert</th>\n",
       "    </tr>\n",
       "  </thead>\n",
       "  <tbody>\n",
       "    <tr>\n",
       "      <th>23</th>\n",
       "      <td>White</td>\n",
       "      <td>In Food Desert</td>\n",
       "      <td>True</td>\n",
       "    </tr>\n",
       "    <tr>\n",
       "      <th>34</th>\n",
       "      <td>White</td>\n",
       "      <td>In Food Desert</td>\n",
       "      <td>True</td>\n",
       "    </tr>\n",
       "    <tr>\n",
       "      <th>39</th>\n",
       "      <td>White</td>\n",
       "      <td>In Food Desert</td>\n",
       "      <td>True</td>\n",
       "    </tr>\n",
       "    <tr>\n",
       "      <th>46</th>\n",
       "      <td>Asian</td>\n",
       "      <td>In Food Desert</td>\n",
       "      <td>True</td>\n",
       "    </tr>\n",
       "    <tr>\n",
       "      <th>51</th>\n",
       "      <td>White</td>\n",
       "      <td>In Food Desert</td>\n",
       "      <td>True</td>\n",
       "    </tr>\n",
       "  </tbody>\n",
       "</table>\n",
       "</div>"
      ],
      "text/plain": [
       "     Race        variable  in food desert\n",
       "23  White  In Food Desert            True\n",
       "34  White  In Food Desert            True\n",
       "39  White  In Food Desert            True\n",
       "46  Asian  In Food Desert            True\n",
       "51  White  In Food Desert            True"
      ]
     },
     "execution_count": 103,
     "metadata": {},
     "output_type": "execute_result"
    }
   ],
   "source": [
    "hmm = by_race[(by_race['in food desert']== 1)]\n",
    "hmm.head()"
   ]
  },
  {
   "cell_type": "code",
   "execution_count": 104,
   "metadata": {},
   "outputs": [
    {
     "data": {
      "text/plain": [
       "White          591\n",
       "Hisp.           46\n",
       "Asian           45\n",
       "Black           23\n",
       "AIAN            11\n",
       "Don't\\nKnow     10\n",
       "Other            8\n",
       "NHOPI            3\n",
       "Name: Race, dtype: int64"
      ]
     },
     "execution_count": 104,
     "metadata": {},
     "output_type": "execute_result"
    }
   ],
   "source": [
    "hmm['Race'].value_counts()"
   ]
  },
  {
   "cell_type": "code",
   "execution_count": 96,
   "metadata": {},
   "outputs": [
    {
     "data": {
      "text/plain": [
       "752"
      ]
     },
     "execution_count": 96,
     "metadata": {},
     "output_type": "execute_result"
    }
   ],
   "source": [
    "sum(by_race['in food desert'] == 1)"
   ]
  },
  {
   "cell_type": "code",
   "execution_count": 95,
   "metadata": {},
   "outputs": [
    {
     "data": {
      "text/plain": [
       "643"
      ]
     },
     "execution_count": 95,
     "metadata": {},
     "output_type": "execute_result"
    }
   ],
   "source": [
    "sum((by_race['Race'] == 'Hisp.'))"
   ]
  },
  {
   "cell_type": "code",
   "execution_count": 101,
   "metadata": {},
   "outputs": [
    {
     "data": {
      "text/plain": [
       "591"
      ]
     },
     "execution_count": 101,
     "metadata": {},
     "output_type": "execute_result"
    }
   ],
   "source": [
    "sum((by_race['Race'] == 'White') & (by_race['in food desert'] == 1))"
   ]
  },
  {
   "cell_type": "code",
   "execution_count": 91,
   "metadata": {},
   "outputs": [
    {
     "data": {
      "text/html": [
       "<div>\n",
       "<style scoped>\n",
       "    .dataframe tbody tr th:only-of-type {\n",
       "        vertical-align: middle;\n",
       "    }\n",
       "\n",
       "    .dataframe tbody tr th {\n",
       "        vertical-align: top;\n",
       "    }\n",
       "\n",
       "    .dataframe thead th {\n",
       "        text-align: right;\n",
       "    }\n",
       "</style>\n",
       "<table border=\"1\" class=\"dataframe\">\n",
       "  <thead>\n",
       "    <tr style=\"text-align: right;\">\n",
       "      <th></th>\n",
       "      <th>Over Median Income</th>\n",
       "      <th>variable</th>\n",
       "      <th>in food desert</th>\n",
       "    </tr>\n",
       "  </thead>\n",
       "  <tbody>\n",
       "    <tr>\n",
       "      <th>0</th>\n",
       "      <td>True</td>\n",
       "      <td>In Food Desert</td>\n",
       "      <td>False</td>\n",
       "    </tr>\n",
       "    <tr>\n",
       "      <th>1</th>\n",
       "      <td>False</td>\n",
       "      <td>In Food Desert</td>\n",
       "      <td>False</td>\n",
       "    </tr>\n",
       "    <tr>\n",
       "      <th>2</th>\n",
       "      <td>False</td>\n",
       "      <td>In Food Desert</td>\n",
       "      <td>False</td>\n",
       "    </tr>\n",
       "    <tr>\n",
       "      <th>3</th>\n",
       "      <td>False</td>\n",
       "      <td>In Food Desert</td>\n",
       "      <td>False</td>\n",
       "    </tr>\n",
       "    <tr>\n",
       "      <th>4</th>\n",
       "      <td>True</td>\n",
       "      <td>In Food Desert</td>\n",
       "      <td>False</td>\n",
       "    </tr>\n",
       "  </tbody>\n",
       "</table>\n",
       "</div>"
      ],
      "text/plain": [
       "   Over Median Income        variable  in food desert\n",
       "0                True  In Food Desert           False\n",
       "1               False  In Food Desert           False\n",
       "2               False  In Food Desert           False\n",
       "3               False  In Food Desert           False\n",
       "4                True  In Food Desert           False"
      ]
     },
     "execution_count": 91,
     "metadata": {},
     "output_type": "execute_result"
    }
   ],
   "source": [
    "by_income = df15.melt(id_vars='Over Median Income',\n",
    "                      value_vars='In Food Desert',\n",
    "                      value_name='in food desert')\n",
    "by_income.head()"
   ]
  },
  {
   "cell_type": "code",
   "execution_count": 92,
   "metadata": {},
   "outputs": [
    {
     "data": {
      "text/plain": [
       "''"
      ]
     },
     "execution_count": 92,
     "metadata": {},
     "output_type": "execute_result"
    },
    {
     "data": {
      "image/png": "[encoded data removed]",
      "text/plain": [
       "<Figure size 504x288 with 1 Axes>"
      ]
     },
     "metadata": {},
     "output_type": "display_data"
    }
   ],
   "source": [
    "in_desert = df15[df15['In Food Desert']]\n",
    "nums_in_desert = in_desert['Over Median Income'].value_counts().values\n",
    "prop_not_over = nums_in_desert[0] /sum(nums_in_desert)\n",
    "fig = plt.figure(figsize=(7, 4))\n",
    "ax = fig.gca()\n",
    "sns.barplot(~in_desert['Over Median Income'], orient='v')\n",
    "ax.set_ylim(0, 1)\n",
    "ax.set_yticks([0, .25, .5, .75, 1])\n",
    "ax.set_yticklabels(['0', '25', '50', '75', '%'], fontsize=12)\n",
    "ax.set_ylabel('')\n",
    "# ax.set_xlabel('Proportion Under Median Income', fontsize=13)\n",
    "ax.set_title('Most residents of food deserts earn\\nless than the median income.', fontsize=15, pad=10)\n",
    "ax.text(0, .15, s=f'{prop_not_over * 100:.0f}% of food desert\\n\\nresidents do not earn\\n\\nthe median income',\n",
    "       ha='center', fontsize=15)\n",
    ";"
   ]
  },
  {
   "cell_type": "code",
   "execution_count": 34,
   "metadata": {
    "collapsed": true
   },
   "outputs": [],
   "source": [
    "fruits_n_veg = ['Fruit Daily', 'Veg Daily', 'Fruit Weekly',\n",
    "                'Veg Weekly', 'Fruit Monthly', 'Veg Monthly']\n",
    "\n",
    "df15_consumption = df15.melt(id_vars='In Food Desert',\n",
    "                             value_vars=fruits_n_veg,\n",
    "                             value_name='Proportion reporting eating...')\n",
    "\n",
    "df13_consumption = df13.melt(id_vars='In Food Desert',\n",
    "                             value_vars=fruits_n_veg,\n",
    "                             value_name='Proportion reporting eating...')"
   ]
  },
  {
   "cell_type": "code",
   "execution_count": 10,
   "metadata": {},
   "outputs": [
    {
     "data": {
      "image/png": "[encoded data removed]",
      "text/plain": [
       "<Figure size 864x432 with 1 Axes>"
      ]
     },
     "metadata": {},
     "output_type": "display_data"
    }
   ],
   "source": [
    "fig = plt.figure(figsize=(12, 6))\n",
    "ax = fig.gca()\n",
    "sns.barplot('In Food Desert',\n",
    "            'Proportion reporting eating...',\n",
    "            hue='variable',\n",
    "            data=df15_consumption,\n",
    "            ax=ax)\n",
    "plt.legend(bbox_to_anchor=(1.05, .75),\n",
    "           loc=2,\n",
    "           borderaxespad=0.,\n",
    "           fontsize=15)\n",
    "plt.title('King County residents\\' report similar fruit and vegetable consumption in and out of food deserts.', fontsize=15, pad=15)\n",
    "ax.set_xticklabels(['Not In Food Desert', 'In Food Desert'], fontsize=15)\n",
    "ax.set_xlabel('')\n",
    "ax.set_ylabel('Percentage Reporting Eating...', fontsize=15)\n",
    "ax.set_ylim(0, 1)\n",
    "ax.set_yticklabels(['0', '20', '40', '60', '80', '%'], fontsize=12)\n",
    "plt.tight_layout()\n",
    "plt.show()"
   ]
  },
  {
   "cell_type": "code",
   "execution_count": 38,
   "metadata": {},
   "outputs": [
    {
     "data": {
      "image/png": "[encoded data removed]",
      "text/plain": [
       "<Figure size 432x288 with 1 Axes>"
      ]
     },
     "metadata": {},
     "output_type": "display_data"
    }
   ],
   "source": [
    "sns.barplot('In Food Desert',\n",
    "            'Proportion reporting eating...',\n",
    "            hue='variable',\n",
    "            data=df13_consumption)\n",
    "plt.legend(bbox_to_anchor=(1.05, 1),\n",
    "           loc=2,\n",
    "           borderaxespad=0.)\n",
    "plt.title('Frequency of King County residents\\' fruit and\\nvegetable consumption, by food desert status.\\n2013')\n",
    "plt.tight_layout()\n",
    "plt.show()\n"
   ]
  },
  {
   "cell_type": "code",
   "execution_count": 40,
   "metadata": {},
   "outputs": [
    {
     "data": {
      "text/plain": [
       "Index(['Year', 'Age', 'Race', 'Income', 'Over Median Income', 'Adults',\n",
       "       'Children', 'Household Size', 'Zip-code', 'In Food Desert',\n",
       "       'Unemployed', 'Active', 'Overweight', 'Pre-Diabetic', 'Diabetic',\n",
       "       'Good-health', 'No Veg', 'No Fruit', 'Fruit Daily', 'Veg Daily',\n",
       "       'Fruit Weekly', 'Veg Weekly', 'Fruit Monthly', 'Veg Monthly'],\n",
       "      dtype='object')"
      ]
     },
     "execution_count": 40,
     "metadata": {},
     "output_type": "execute_result"
    }
   ],
   "source": [
    "df15.columns"
   ]
  },
  {
   "cell_type": "code",
   "execution_count": 63,
   "metadata": {},
   "outputs": [
    {
     "name": "stderr",
     "output_type": "stream",
     "text": [
      "main.py:2: UserWarning: Boolean Series key will be reindexed to match DataFrame index.\n",
      "  import numpy as np\n"
     ]
    },
    {
     "data": {
      "text/html": [
       "<div>\n",
       "<style scoped>\n",
       "    .dataframe tbody tr th:only-of-type {\n",
       "        vertical-align: middle;\n",
       "    }\n",
       "\n",
       "    .dataframe tbody tr th {\n",
       "        vertical-align: top;\n",
       "    }\n",
       "\n",
       "    .dataframe thead th {\n",
       "        text-align: right;\n",
       "    }\n",
       "</style>\n",
       "<table border=\"1\" class=\"dataframe\">\n",
       "  <thead>\n",
       "    <tr style=\"text-align: right;\">\n",
       "      <th></th>\n",
       "      <th>Year</th>\n",
       "      <th>Age</th>\n",
       "      <th>Race</th>\n",
       "      <th>Income</th>\n",
       "      <th>Over Median Income</th>\n",
       "      <th>Adults</th>\n",
       "      <th>Children</th>\n",
       "      <th>Household Size</th>\n",
       "      <th>Zip-code</th>\n",
       "      <th>In Food Desert</th>\n",
       "      <th>Unemployed</th>\n",
       "      <th>Active</th>\n",
       "      <th>Overweight</th>\n",
       "      <th>Pre-Diabetic</th>\n",
       "      <th>Diabetic</th>\n",
       "      <th>Good-health</th>\n",
       "      <th>No Veg</th>\n",
       "      <th>No Fruit</th>\n",
       "      <th>Fruit Daily</th>\n",
       "      <th>Veg Daily</th>\n",
       "      <th>Fruit Weekly</th>\n",
       "      <th>Veg Weekly</th>\n",
       "      <th>Fruit Monthly</th>\n",
       "      <th>Veg Monthly</th>\n",
       "    </tr>\n",
       "  </thead>\n",
       "  <tbody>\n",
       "    <tr>\n",
       "      <th>51367</th>\n",
       "      <td>2015.0</td>\n",
       "      <td>35-39</td>\n",
       "      <td>White</td>\n",
       "      <td>$75+</td>\n",
       "      <td>True</td>\n",
       "      <td>3.0</td>\n",
       "      <td>1.0</td>\n",
       "      <td>4.0</td>\n",
       "      <td>98198.0</td>\n",
       "      <td>True</td>\n",
       "      <td>False</td>\n",
       "      <td>False</td>\n",
       "      <td>False</td>\n",
       "      <td>False</td>\n",
       "      <td>False</td>\n",
       "      <td>True</td>\n",
       "      <td>False</td>\n",
       "      <td>False</td>\n",
       "      <td>True</td>\n",
       "      <td>True</td>\n",
       "      <td>False</td>\n",
       "      <td>False</td>\n",
       "      <td>False</td>\n",
       "      <td>False</td>\n",
       "    </tr>\n",
       "    <tr>\n",
       "      <th>51382</th>\n",
       "      <td>2015.0</td>\n",
       "      <td>25-29</td>\n",
       "      <td>White</td>\n",
       "      <td>$75+</td>\n",
       "      <td>True</td>\n",
       "      <td>2.0</td>\n",
       "      <td>0.0</td>\n",
       "      <td>2.0</td>\n",
       "      <td>98057.0</td>\n",
       "      <td>True</td>\n",
       "      <td>False</td>\n",
       "      <td>False</td>\n",
       "      <td>NaN</td>\n",
       "      <td>False</td>\n",
       "      <td>False</td>\n",
       "      <td>True</td>\n",
       "      <td>False</td>\n",
       "      <td>False</td>\n",
       "      <td>True</td>\n",
       "      <td>True</td>\n",
       "      <td>False</td>\n",
       "      <td>False</td>\n",
       "      <td>False</td>\n",
       "      <td>False</td>\n",
       "    </tr>\n",
       "    <tr>\n",
       "      <th>51389</th>\n",
       "      <td>2015.0</td>\n",
       "      <td>30-34</td>\n",
       "      <td>White</td>\n",
       "      <td>$35-50K</td>\n",
       "      <td>False</td>\n",
       "      <td>1.0</td>\n",
       "      <td>0.0</td>\n",
       "      <td>1.0</td>\n",
       "      <td>98103.0</td>\n",
       "      <td>True</td>\n",
       "      <td>False</td>\n",
       "      <td>False</td>\n",
       "      <td>False</td>\n",
       "      <td>False</td>\n",
       "      <td>False</td>\n",
       "      <td>True</td>\n",
       "      <td>False</td>\n",
       "      <td>False</td>\n",
       "      <td>False</td>\n",
       "      <td>True</td>\n",
       "      <td>True</td>\n",
       "      <td>False</td>\n",
       "      <td>False</td>\n",
       "      <td>False</td>\n",
       "    </tr>\n",
       "    <tr>\n",
       "      <th>51399</th>\n",
       "      <td>2015.0</td>\n",
       "      <td>40-44</td>\n",
       "      <td>Asian</td>\n",
       "      <td>$75+</td>\n",
       "      <td>True</td>\n",
       "      <td>2.0</td>\n",
       "      <td>1.0</td>\n",
       "      <td>3.0</td>\n",
       "      <td>98103.0</td>\n",
       "      <td>True</td>\n",
       "      <td>False</td>\n",
       "      <td>False</td>\n",
       "      <td>True</td>\n",
       "      <td>False</td>\n",
       "      <td>False</td>\n",
       "      <td>True</td>\n",
       "      <td>False</td>\n",
       "      <td>False</td>\n",
       "      <td>True</td>\n",
       "      <td>True</td>\n",
       "      <td>False</td>\n",
       "      <td>False</td>\n",
       "      <td>False</td>\n",
       "      <td>False</td>\n",
       "    </tr>\n",
       "    <tr>\n",
       "      <th>51404</th>\n",
       "      <td>2015.0</td>\n",
       "      <td>18-24</td>\n",
       "      <td>White</td>\n",
       "      <td>$35-50K</td>\n",
       "      <td>False</td>\n",
       "      <td>2.0</td>\n",
       "      <td>0.0</td>\n",
       "      <td>2.0</td>\n",
       "      <td>98103.0</td>\n",
       "      <td>True</td>\n",
       "      <td>False</td>\n",
       "      <td>False</td>\n",
       "      <td>False</td>\n",
       "      <td>False</td>\n",
       "      <td>False</td>\n",
       "      <td>True</td>\n",
       "      <td>False</td>\n",
       "      <td>False</td>\n",
       "      <td>True</td>\n",
       "      <td>True</td>\n",
       "      <td>False</td>\n",
       "      <td>False</td>\n",
       "      <td>False</td>\n",
       "      <td>False</td>\n",
       "    </tr>\n",
       "  </tbody>\n",
       "</table>\n",
       "</div>"
      ],
      "text/plain": [
       "         Year    Age   Race   Income  Over Median Income  Adults  Children  \\\n",
       "51367  2015.0  35-39  White     $75+                True     3.0       1.0   \n",
       "51382  2015.0  25-29  White     $75+                True     2.0       0.0   \n",
       "51389  2015.0  30-34  White  $35-50K               False     1.0       0.0   \n",
       "51399  2015.0  40-44  Asian     $75+                True     2.0       1.0   \n",
       "51404  2015.0  18-24  White  $35-50K               False     2.0       0.0   \n",
       "\n",
       "       Household Size  Zip-code  In Food Desert  Unemployed  Active  \\\n",
       "51367             4.0   98198.0            True       False   False   \n",
       "51382             2.0   98057.0            True       False   False   \n",
       "51389             1.0   98103.0            True       False   False   \n",
       "51399             3.0   98103.0            True       False   False   \n",
       "51404             2.0   98103.0            True       False   False   \n",
       "\n",
       "      Overweight Pre-Diabetic Diabetic  Good-health  No Veg  No Fruit  \\\n",
       "51367      False        False    False         True   False     False   \n",
       "51382        NaN        False    False         True   False     False   \n",
       "51389      False        False    False         True   False     False   \n",
       "51399       True        False    False         True   False     False   \n",
       "51404      False        False    False         True   False     False   \n",
       "\n",
       "       Fruit Daily  Veg Daily  Fruit Weekly  Veg Weekly  Fruit Monthly  \\\n",
       "51367         True       True         False       False          False   \n",
       "51382         True       True         False       False          False   \n",
       "51389        False       True          True       False          False   \n",
       "51399         True       True         False       False          False   \n",
       "51404         True       True         False       False          False   \n",
       "\n",
       "       Veg Monthly  \n",
       "51367        False  \n",
       "51382        False  \n",
       "51389        False  \n",
       "51399        False  \n",
       "51404        False  "
      ]
     },
     "execution_count": 63,
     "metadata": {},
     "output_type": "execute_result"
    }
   ],
   "source": [
    "df_oasis = df15[df15['In Food Desert'] == 0]\n",
    "df_desert = df15[df['In Food Desert'] == 1]\n",
    "df_desert.head()"
   ]
  },
  {
   "cell_type": "code",
   "execution_count": 62,
   "metadata": {},
   "outputs": [
    {
     "data": {
      "text/plain": [
       "<matplotlib.axes._subplots.AxesSubplot at 0x290b33a2b38>"
      ]
     },
     "execution_count": 62,
     "metadata": {},
     "output_type": "execute_result"
    },
    {
     "data": {
      "image/png": "[encoded data removed]",
      "text/plain": [
       "<Figure size 432x288 with 1 Axes>"
      ]
     },
     "metadata": {},
     "output_type": "display_data"
    }
   ],
   "source": [
    "sns.barplot('In Food Desert', 'value', data=diabetics, orient='h')"
   ]
  },
  {
   "cell_type": "code",
   "execution_count": null,
   "metadata": {
    "collapsed": true
   },
   "outputs": [],
   "source": []
  }
 ],
 "metadata": {
  "kernelspec": {
   "display_name": "Python 3",
   "language": "python",
   "name": "python3"
  },
  "language_info": {
   "codemirror_mode": {
    "name": "ipython",
    "version": 3
   },
   "file_extension": ".py",
   "mimetype": "text/x-python",
   "name": "python",
   "nbconvert_exporter": "python",
   "pygments_lexer": "ipython3",
   "version": "3.6.4"
  }
 },
 "nbformat": 4,
 "nbformat_minor": 2
}
